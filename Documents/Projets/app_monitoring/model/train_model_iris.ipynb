{
 "cells": [
  {
   "cell_type": "code",
   "execution_count": 1,
   "metadata": {},
   "outputs": [],
   "source": [
    "import pandas as pd \n",
    "from sklearn.datasets import load_iris\n",
    "from sklearn.model_selection import train_test_split\n",
    "from sklearn.ensemble import RandomForestClassifier\n",
    "from sklearn.metrics import accuracy_score"
   ]
  },
  {
   "cell_type": "code",
   "execution_count": 3,
   "metadata": {},
   "outputs": [
    {
     "name": "stdout",
     "output_type": "stream",
     "text": [
      "Model Accuracy on Test Set: 0.86\n"
     ]
    }
   ],
   "source": [
    "data = load_iris()\n",
    "\n",
    "reference_data = pd.DataFrame(data=data.data, columns=data.feature_names)\n",
    "reference_data['target'] = data.target\n",
    "reference_data.to_csv(\"reference_data.csv\", index=False)\n",
    "\n",
    "\n",
    "X = pd.DataFrame(data.data, columns=data.feature_names)\n",
    "y = pd.Series(data.target, name='target')\n",
    "\n",
    "X = X.rename(columns={\n",
    "    'sepal length (cm)': 'sepal_length_cm',\n",
    "    'sepal width (cm)': 'sepal_width_cm', \n",
    "    'petal length (cm)': 'petal_length_cm',\n",
    "    'petal width (cm)': 'petal_width_cm'\n",
    "})\n",
    "\n",
    "\n",
    "X_train, X_temp, y_train, y_temp = train_test_split(X, y, test_size=0.3, random_state=42, stratify=y)\n",
    "X_test, X_reference, y_test, y_reference = train_test_split(X_temp, y_temp, test_size=0.5, random_state=42, stratify=y_temp)\n",
    "\n",
    "model = RandomForestClassifier(random_state=42)\n",
    "\n",
    "model.fit(X_train, y_train)\n",
    "\n",
    "y_pred = model.predict(X_test)\n",
    "accuracy = accuracy_score(y_test, y_pred)\n",
    "print(f\"Model Accuracy on Test Set: {accuracy:.2f}\")\n"
   ]
  },
  {
   "cell_type": "code",
   "execution_count": 4,
   "metadata": {},
   "outputs": [
    {
     "name": "stdout",
     "output_type": "stream",
     "text": [
      "Model saved to iris_model.pkl\n"
     ]
    }
   ],
   "source": [
    "import joblib\n",
    "\n",
    "model_path = 'iris_model.pkl'\n",
    "joblib.dump(model, model_path)\n",
    "print(f\"Model saved to {model_path}\")"
   ]
  },
  {
   "cell_type": "code",
   "execution_count": 5,
   "metadata": {},
   "outputs": [
    {
     "name": "stdout",
     "output_type": "stream",
     "text": [
      "\n",
      "Échantillon de données de test avec prédictions :\n",
      "     sepal_length_cm  sepal_width_cm  petal_length_cm  petal_width_cm\n",
      "77               6.7             3.0              5.0             1.7\n",
      "111              6.4             2.7              5.3             1.9\n",
      "69               5.6             2.5              3.9             1.1\n",
      "133              6.3             2.8              5.1             1.5\n",
      "141              6.9             3.1              5.1             2.3\n",
      "\n",
      "Prédictions pour l'échantillon :\n",
      "[2 2 1 1 2]\n"
     ]
    }
   ],
   "source": [
    "reference_data = X_reference.copy()\n",
    "reference_data['target'] = y_reference\n",
    "reference_data.to_csv('reference_data.csv', index=False)\n",
    "\n",
    "# Créer un petit échantillon de test pour vérification\n",
    "sample_data = X_test.head()\n",
    "sample_predictions = model.predict(sample_data)\n",
    "print(\"\\nÉchantillon de données de test avec prédictions :\")\n",
    "print(sample_data)\n",
    "print(\"\\nPrédictions pour l'échantillon :\")\n",
    "print(sample_predictions)"
   ]
  }
 ],
 "metadata": {
  "kernelspec": {
   "display_name": "venv",
   "language": "python",
   "name": "python3"
  },
  "language_info": {
   "codemirror_mode": {
    "name": "ipython",
    "version": 3
   },
   "file_extension": ".py",
   "mimetype": "text/x-python",
   "name": "python",
   "nbconvert_exporter": "python",
   "pygments_lexer": "ipython3",
   "version": "3.10.0"
  }
 },
 "nbformat": 4,
 "nbformat_minor": 2
}
